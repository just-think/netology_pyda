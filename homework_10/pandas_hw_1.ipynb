{
 "cells": [
  {
   "cell_type": "code",
   "execution_count": 1,
   "metadata": {},
   "outputs": [],
   "source": [
    "import pandas as pd"
   ]
  },
  {
   "cell_type": "markdown",
   "metadata": {},
   "source": [
    "Задание 1\n",
    "Скачайте с сайта https://grouplens.org/datasets/movielens/ датасет любого размера. Определите какому фильму было выставлено больше всего оценок 5.0."
   ]
  },
  {
   "cell_type": "code",
   "execution_count": 2,
   "metadata": {},
   "outputs": [
    {
     "name": "stdout",
     "output_type": "stream",
     "text": [
      "Wall time: 12 s\n"
     ]
    },
    {
     "data": {
      "text/plain": [
       "'Shawshank Redemption, The (1994)'"
      ]
     },
     "execution_count": 2,
     "metadata": {},
     "output_type": "execute_result"
    }
   ],
   "source": [
    "%%time\n",
    "ratings = pd.read_csv('ml-25m/ratings.csv')\n",
    "best_movie_id = ratings[ratings['rating'] == 5.0].movieId.value_counts().index[0]\n",
    "\n",
    "movies = pd.read_csv('ml-25m/movies.csv')\n",
    "movies[movies['movieId'] == best_movie_id].title.values[0]"
   ]
  },
  {
   "cell_type": "markdown",
   "metadata": {},
   "source": [
    "Задание 2\n",
    "По данным файла power.csv посчитайте суммарное потребление стран Прибалтики (Латвия, Литва и Эстония) категорий 4, 12 и 21 за период с 2005 по 2010 года. Не учитывайте в расчетах отрицательные значения quantity."
   ]
  },
  {
   "cell_type": "code",
   "execution_count": 3,
   "metadata": {},
   "outputs": [
    {
     "name": "stdout",
     "output_type": "stream",
     "text": [
      "Wall time: 766 ms\n"
     ]
    },
    {
     "data": {
      "text/plain": [
       "240580.0"
      ]
     },
     "execution_count": 3,
     "metadata": {},
     "output_type": "execute_result"
    }
   ],
   "source": [
    "%%time\n",
    "power = pd.read_csv('power.csv')\n",
    "\n",
    "# power[ (power.country.str.contains('lat', case=False) \n",
    "#       | power.country.str.contains('lit', case=False)\n",
    "#       | power.country.str.contains('sto', case=False))].country.unique()\n",
    "\n",
    "# power['is_pribaltic'] = (power['country'] == 'Lithuania') | (power['country'] == 'Latvia') | (power['country'] == 'Estonia')\n",
    "# power['right_category'] = (power['category'] == 4) | (power['category'] == 12) | (power['category'] == 21)\n",
    "# power['right_year'] = (power['year'] >= 2005) & (power['year'] <= 2010)\n",
    "# power[power['is_pribaltic'] & power['right_category'] & power['right_year']]\n",
    "\n",
    "power[(\n",
    "      power.country.isin(['Lithuania','Latvia','Estonia'])\n",
    "    & power.category.isin([4,12,21])\n",
    "    &((power['year'] >= 2005) & (power['year'] <= 2010))\n",
    "    &(power['quantity'] > 0)\n",
    ")].quantity.sum()"
   ]
  },
  {
   "cell_type": "markdown",
   "metadata": {},
   "source": [
    "Задание 3\n",
    "Выберите страницу любого сайта с табличными данными. Импортируйте таблицы в pandas dataframe.\n",
    "Примеры страниц (необязательно брать именно эти):\n",
    "https://fortrader.org/quotes\n",
    "https://www.finanz.ru/valyuty/v-realnom-vremeni"
   ]
  },
  {
   "cell_type": "code",
   "execution_count": 5,
   "metadata": {},
   "outputs": [
    {
     "name": "stdout",
     "output_type": "stream",
     "text": [
      "Bitcoin price in US dollars: 9256.99\n"
     ]
    }
   ],
   "source": [
    "\n",
    "page_url = 'https://bitcoinwisdom.com/'\n",
    "\n",
    "# , attrs = {'class': 'news_table'}, encoding='utf-8'\n",
    "df = pd.read_html(page_url)[3]\n",
    "price = df[(df.Bitcoin == 'USD') & df['Bitcoin.10'].str.contains('Bitstamp')]['Bitcoin.1'].values[0]\n",
    "print(f'Bitcoin price in US dollars: ' + price)"
   ]
  }
 ],
 "metadata": {
  "kernelspec": {
   "display_name": "Python 3",
   "language": "python",
   "name": "python3"
  },
  "language_info": {
   "codemirror_mode": {
    "name": "ipython",
    "version": 3
   },
   "file_extension": ".py",
   "mimetype": "text/x-python",
   "name": "python",
   "nbconvert_exporter": "python",
   "pygments_lexer": "ipython3",
   "version": "3.7.4"
  }
 },
 "nbformat": 4,
 "nbformat_minor": 2
}
