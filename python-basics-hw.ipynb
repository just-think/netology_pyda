{
 "cells": [
  {
   "cell_type": "markdown",
   "metadata": {},
   "source": [
    "**Задание 1**. Даны 2 строки: *long_phrase* и *short_phrase*. \n",
    "Напишите код, который проверяет действительно ли длинная фраза *long_phrase* длиннее короткой *short_phrase*. И выводит *True* или *False* в зависимости от результата сравнения."
   ]
  },
  {
   "cell_type": "code",
   "execution_count": 1,
   "metadata": {},
   "outputs": [
    {
     "name": "stdout",
     "output_type": "stream",
     "text": [
      "True\n"
     ]
    }
   ],
   "source": [
    "long_phrase = 'Насколько проще было бы писать программы, если бы не заказчики'\n",
    "short_phrase = '640Кб должно хватить для любых задач. Билл Гейтс (по легенде)'\n",
    "print  (len(long_phrase) > len(short_phrase))"
   ]
  },
  {
   "cell_type": "markdown",
   "metadata": {},
   "source": [
    "**Задание 2**. Дано значение объема файла в байтах. Напишите перевод этого значения в мегабайты в формате: \"*Объем файла равен 213.68Mb*\""
   ]
  },
  {
   "cell_type": "code",
   "execution_count": 2,
   "metadata": {},
   "outputs": [
    {
     "name": "stdout",
     "output_type": "stream",
     "text": [
      "Объем файла равен 0.20313262939453125Mb\n"
     ]
    }
   ],
   "source": [
    "byte_size = 213000\n",
    "megabyte_size = byte_size/(1024*1024)\n",
    "print ('Объем файла равен ' + str(megabyte_size) +'Mb')"
   ]
  },
  {
   "cell_type": "markdown",
   "metadata": {},
   "source": [
    "**Задание 3**. Разработать приложение для определения знака зодиака по дате рождения. Пример:\n",
    "\n",
    "Введите месяц: март\n",
    "\n",
    "Введите число: 6\n",
    "\n",
    "Вывод:\n",
    "Рыбы"
   ]
  },
  {
   "cell_type": "code",
   "execution_count": 5,
   "metadata": {},
   "outputs": [
    {
     "name": "stdout",
     "output_type": "stream",
     "text": [
      "Введите месяц: ноябрь\n",
      "Введите число: 18\n",
      "Вывод: Скорпион\n"
     ]
    }
   ],
   "source": [
    "months = {\n",
    "    \"январь\" : 1,\n",
    "    \"февраль\" : 2,\n",
    "    \"март\" : 3,\n",
    "    \"апрель\" : 4,\n",
    "    \"май\" : 5,\n",
    "    \"июнь\" : 6,\n",
    "    \"июль\" : 7,\n",
    "    \"август\" : 8,\n",
    "    \"сентябрь\" : 9,\n",
    "    \"октябрь\" : 10,\n",
    "    \"ноябрь\" : 11,\n",
    "    \"декабрь\" : 12,\n",
    "}\n",
    "\n",
    "def convert_month_to_int(month_str):\n",
    "    month_num = months.get(month_str.lower())\n",
    "    if month_num == None:\n",
    "        raise Exception(f\"Неизвестный месяц: {month_str}\")\n",
    "    return month_num\n",
    "\n",
    "def convert_day_to_int(day_str):\n",
    "    day = -1\n",
    "    try:\n",
    "        day = int(day_str)\n",
    "    except:\n",
    "        raise Exception(f\"Некорректное число: {day_str}\")\n",
    "        \n",
    "    if not 0 < day < 32 :\n",
    "        raise Exception(f\"Введен некорректный день: {day}\")\n",
    "    \n",
    "    return day\n",
    "\n",
    "#name, from month, from day, to month, to day\n",
    "zodiacs = (\n",
    "    #Козерог \tс 22 декабря по 19 января\n",
    "    (\"Козерог\", 12, 20, 1, 20),\n",
    "    #Водолей \tс 20 января по 18 февраля\n",
    "    (\"Водолей\", 1, 20, 2, 18),\n",
    "    #Рыбы \tс 19 февраля по 20 марта\n",
    "    (\"Рыбы\", 2, 19, 3, 20),\n",
    "    #Овен \tс 21 марта по 20 апреля\n",
    "    (\"Овен\", 3, 21, 4, 20),\n",
    "    #Телец \tс 21 апреля по 20 мая\n",
    "    (\"Телец\", 4, 21, 5, 20),\n",
    "    #Близнецы \tс 21 мая по 20 июня\n",
    "    (\"Близнецы\", 5, 21, 6, 20),\n",
    "    #Рак \tс 21 июня по 22 июля\n",
    "    (\"Рак\", 6, 21, 7, 22),\n",
    "    #Лев \tс 23 июля по 22 августа\n",
    "    (\"Лев\", 7, 23, 8, 22),\n",
    "    #Дева \tс 23 августа по 23 сентября\n",
    "    (\"Дева\", 8, 23, 9, 23),\n",
    "    #Весы \tс 24 сентября по 23 октября\n",
    "    (\"Весы\", 9, 24, 10, 23),\n",
    "    #Скорпион \tс 24 октября по 21 ноября\n",
    "    (\"Скорпион\", 10, 24, 11, 21),\n",
    "    #Стрелец \tс 22 ноября по 21 декабря\n",
    "    (\"Стрелец\", 11, 22, 12, 21)\n",
    ")\n",
    "\n",
    "def get_zodiac_name(month, day):\n",
    "    for zodiac in zodiacs:\n",
    "        name = zodiac[0]\n",
    "        month_from = zodiac[1]\n",
    "        day_from = zodiac[2]\n",
    "        month_to = zodiac[3]\n",
    "        day_to = zodiac[4]\n",
    "    \n",
    "        if (month == month_from and day >= day_from) or (month == month_to and day <= day_to):\n",
    "            return name\n",
    "    \n",
    "    return \"Неизвестный знак\"\n",
    "\n",
    "\n",
    "month_str = input('Введите месяц: ')\n",
    "month = convert_month_to_int(month_str)\n",
    "\n",
    "day_str = input('Введите число: ')\n",
    "day = convert_day_to_int(day_str)\n",
    "\n",
    "zodiac_name = get_zodiac_name(month, day)\n",
    "\n",
    "print(\"Вывод: \" + zodiac_name)"
   ]
  },
  {
   "cell_type": "markdown",
   "metadata": {},
   "source": [
    "**Задание 4**. Нужно разработать приложение для финансового планирования.\n",
    "Приложение учитывает сколько уходит на ипотеку, \"на жизнь\" и сколько нужно отложить на пенсию.\n",
    "Пользователь вводит:\n",
    "- заработанную плату в месяц.\n",
    "- сколько процентов от ЗП уходит на ипотеку.\n",
    "- сколько процентов от ЗП уходит \"на жизнь\".\n",
    "- сколько раз приходит премия в год.\n",
    "\n",
    "Остальная часть заработанной платы откладывается на пенсию.\n",
    "\n",
    "Также пользователю приходит премия в размере зарплаты, от которой половина уходит на отпуск, а вторая половина откладывается.\n",
    "\n",
    "Программа должна учитывать сколько премий было в год.\n",
    "\n",
    "Нужно вывести сколько денег тратит пользователь на ипотеку и сколько он накопит за год.\n",
    "\n",
    "Пример:\n",
    "\n",
    "Введите заработанную плату в месяц: 100000\n",
    "\n",
    "Введите сколько процентов уходит на ипотеку: 30\n",
    "\n",
    "Введите сколько процентов уходит на жизнь: 50\n",
    "\n",
    "Введите количество премий за год: 2\n",
    "\n",
    "Вывод:\n",
    "На ипотеку было потрачено: 360000 рублей\n",
    "Было накоплено: 340000 рублей"
   ]
  },
  {
   "cell_type": "code",
   "execution_count": 16,
   "metadata": {},
   "outputs": [
    {
     "name": "stdout",
     "output_type": "stream",
     "text": [
      "Введите заработанную плату в месяц: 10000\n",
      "Введите сколько процентов от ЗП уходит на ипотеку: 30\n",
      "Введите сколько процентов от ЗП уходит \"на жизнь\": 50\n",
      "Введите сколько раз приходит премия в год: 2\n",
      "На ипотеку было потрачено: 36000.0 рублей Было накоплено: 34000.0\n"
     ]
    }
   ],
   "source": [
    "salary = float(input('Введите заработанную плату в месяц: '))\n",
    "prc_mortgage = float(input('Введите сколько процентов от ЗП уходит на ипотеку: '))\n",
    "prc_life = float(input('Введите сколько процентов от ЗП уходит \"на жизнь\": '))\n",
    "cnt_bonus = float(input('Введите сколько раз приходит премия в год: '))\n",
    "\n",
    "print(\"На ипотеку было потрачено: \" + str(salary*12*prc_mortgage/100) + \n",
    "      ' рублей Было накоплено: ' + str(salary*12*(100 - prc_mortgage - prc_life)/100 + salary*cnt_bonus/2)) \n"
   ]
  },
  {
   "cell_type": "markdown",
   "metadata": {},
   "source": [
    "Дополнительное задание"
   ]
  },
  {
   "cell_type": "markdown",
   "metadata": {},
   "source": [
    "Задание 1\n",
    "https://ru.wikipedia.org/wiki/Fizz_buzz\n",
    "Начинающий произносит число “1”, и каждый следующий игрок прибавляет к предыдущему значению единицу. Когда число делится на три оно заменяется на fizz, если число делится на пять, то произносится buzz. Числа, делящиеся на три и пять одновременно заменяются на fizz buzz. Сделавший ошибку игрок исключается из игры.\n",
    "\n",
    "Типичная партия в fizz buzz выглядит так:\n",
    "1, 2, Fizz, 4, Buzz, Fizz, 7, 8, Fizz, Buzz, 11, Fizz, 13, 14, Fizz Buzz, 16, 17, Fizz, 19, Buzz, Fizz, 22, 23, Fizz, Buzz, 26, Fizz, 28, 29, Fizz Buzz, 31, 32, Fizz, 34, Buzz, Fizz, …\n",
    "\n",
    "Напишите код, выводящий на экран первые n элементов этой игры (естественно, корректные)."
   ]
  },
  {
   "cell_type": "code",
   "execution_count": 1,
   "metadata": {},
   "outputs": [
    {
     "name": "stdout",
     "output_type": "stream",
     "text": [
      "Введите количество элементов игры: 36\n",
      "1, 2, Fizz, 4, Buzz, Fizz, 7, 8, Fizz, Buzz, 11, Fizz, 13, 14, Fizz Buzz, 16, 17, Fizz, 19, Buzz, Fizz, 22, 23, Fizz, Buzz, 26, Fizz, 28, 29, Fizz Buzz, 31, 32, Fizz, 34, Buzz, Fizz, ...\n"
     ]
    }
   ],
   "source": [
    "n = int(input('Введите количество элементов игры: '))\n",
    "game = range(1, n + 1)\n",
    "for step in game:\n",
    "    if step % 3 == 0 and step % 5 == 0:\n",
    "        print('Fizz Buzz', end = ', ')\n",
    "    elif step % 3 == 0:\n",
    "        print('Fizz', end = ', ')\n",
    "    elif step % 5 == 0: \n",
    "        print('Buzz', end = ', ')\n",
    "    else:\n",
    "        print(str(step), end = ', ')\n",
    "print(\"...\")\n"
   ]
  },
  {
   "cell_type": "markdown",
   "metadata": {},
   "source": [
    "Задание 2\n",
    "Датчик принимает сигнал, состоящий из 0 и 1. Известно, что сигнал имеет периодичность, не превышающей натурального числа n. Напишите код, который вычисляет периодичность сигнала. Считайте, что 3 < n < 1000, а общая длина сигнала значительно превышает n.\n",
    "\n",
    "Пример сигнала с периодичностью 4 (повторяющийся элемент 1011):\n",
    "1011101110111011101110111011101110111011\n",
    "\n",
    "Еще одна интерпретация задачи, но без кода: https://tproger.ru/problems/endless-train/"
   ]
  },
  {
   "cell_type": "code",
   "execution_count": 3,
   "metadata": {},
   "outputs": [
    {
     "name": "stdout",
     "output_type": "stream",
     "text": [
      "period: 4\n"
     ]
    }
   ],
   "source": [
    "signal = \"1011101110111011101110111011101110111011\"\n",
    "\n",
    "assumed_sequence_length = 1 #n\n",
    "sequence_encounter_counter = 0\n",
    "\n",
    "sequence_found = False\n",
    "\n",
    "\n",
    "while (assumed_sequence_length * 2 <= len(signal)):\n",
    "    sequence_start_index = assumed_sequence_length * sequence_encounter_counter\n",
    "    sequence_end_index = assumed_sequence_length * (sequence_encounter_counter + 1)                                                  \n",
    "\n",
    "    assumed_sequence = signal[sequence_start_index : sequence_end_index]                        \n",
    "\n",
    "    next_step_start_index = assumed_sequence_length * (sequence_encounter_counter + 1)    \n",
    "    next_step_end_index = assumed_sequence_length * (sequence_encounter_counter + 2) \n",
    "    \n",
    "    next_step = signal[next_step_start_index : next_step_end_index]\n",
    "    \n",
    "    if len(next_step) < assumed_sequence_length:\n",
    "        if not assumed_sequence.startswith(next_step):\n",
    "            sequence_found = False\n",
    "        break\n",
    "        \n",
    "    if assumed_sequence == next_step:\n",
    "        sequence_encounter_counter += 1\n",
    "        sequence_found = True\n",
    "    else:\n",
    "        assumed_sequence_length += 1\n",
    "        sequence_encounter_counter = 0\n",
    "        sequence_found = False\n",
    "    \n",
    "if sequence_found:\n",
    "    print(\"period: \" + str(assumed_sequence_length))\n",
    "else:\n",
    "    print(\"sequence not found\")"
   ]
  },
  {
   "cell_type": "markdown",
   "metadata": {},
   "source": [
    "Задание 3\n",
    "Дано слово из латинских букв. Напишите скрипт, который выводит на экран букву из середины слова (если число букв нечетное). Если букв четное число, то на экран выводятся две буквы из середины.\n",
    "\n",
    "Для ‘test’ - 'es’\n",
    "Для ‘testing’ - ‘t’"
   ]
  },
  {
   "cell_type": "code",
   "execution_count": 1,
   "metadata": {},
   "outputs": [
    {
     "name": "stdout",
     "output_type": "stream",
     "text": [
      "es\n",
      "t\n"
     ]
    }
   ],
   "source": [
    "def middle_letter(word):\n",
    "    middle_char_index = len(word) // 2\n",
    "    if len(word) % 2 == 0:\n",
    "        print(word[middle_char_index - 1 : middle_char_index + 1])\n",
    "    else:\n",
    "        print(word[middle_char_index : middle_char_index + 1])\n",
    "\n",
    "middle_letter(\"test\")\n",
    "middle_letter(\"testing\")"
   ]
  }
 ],
 "metadata": {
  "celltoolbar": "Raw Cell Format",
  "kernelspec": {
   "display_name": "Python 3",
   "language": "python",
   "name": "python3"
  },
  "language_info": {
   "codemirror_mode": {
    "name": "ipython",
    "version": 3
   },
   "file_extension": ".py",
   "mimetype": "text/x-python",
   "name": "python",
   "nbconvert_exporter": "python",
   "pygments_lexer": "ipython3",
   "version": "3.7.4"
  }
 },
 "nbformat": 4,
 "nbformat_minor": 2
}
